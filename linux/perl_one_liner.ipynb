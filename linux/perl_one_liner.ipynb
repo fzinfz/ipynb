{
 "cells": [
  {
   "cell_type": "markdown",
   "metadata": {},
   "source": [
    "https://perldoc.perl.org/perlrun\n",
    "\n",
    "https://gist.github.com/joyrexus/7328094"
   ]
  },
  {
   "cell_type": "code",
   "execution_count": 1,
   "metadata": {},
   "outputs": [
    {
     "name": "stdout",
     "output_type": "stream",
     "text": [
      "  -a                autosplit mode with -n or -p (splits $_ into @F)\n",
      "  -e program        one line of program (several -e's allowed, omit programfile)\n",
      "  -E program        like -e, but enables all optional features\n",
      "  -F/pattern/       split() pattern for -a switch (//'s are optional)\n",
      "  -l[octal]         enable line ending processing, specifies line terminator\n",
      "  -n                assume \"while (<>) { ... }\" loop around program\n",
      "  -p                assume loop like -n but print line also, like sed\n"
     ]
    }
   ],
   "source": [
    "perl -h | grep -P '\\-[plane]\\b'"
   ]
  },
  {
   "cell_type": "code",
   "execution_count": 2,
   "metadata": {},
   "outputs": [
    {
     "name": "stdout",
     "output_type": "stream",
     "text": [
      "xest\n"
     ]
    }
   ],
   "source": [
    "echo test | perl -pe 's/t/x/'"
   ]
  },
  {
   "cell_type": "code",
   "execution_count": 14,
   "metadata": {},
   "outputs": [
    {
     "name": "stdout",
     "output_type": "stream",
     "text": [
      "No LSB modules are available.\n",
      "Distributor ID:\tDebian\n",
      "Description:\tDebian GNU/Linux 10 (buster)\n",
      "Release:\t10\n",
      "Codename:\tbuster\n",
      "\n",
      "Description:\tDebian GNU/Linux 10 (buster)\n",
      "Release:\t10\n"
     ]
    }
   ],
   "source": [
    "lsb_release -a\n",
    "echo\n",
    "lsb_release -a 2>/dev/null | perl -ne 'print if /Description/ ... /Codename/' | head -n -1"
   ]
  }
 ],
 "metadata": {
  "kernelspec": {
   "display_name": "Bash",
   "language": "bash",
   "name": "bash"
  },
  "language_info": {
   "codemirror_mode": "shell",
   "file_extension": ".sh",
   "mimetype": "text/x-sh",
   "name": "bash"
  }
 },
 "nbformat": 4,
 "nbformat_minor": 4
}
