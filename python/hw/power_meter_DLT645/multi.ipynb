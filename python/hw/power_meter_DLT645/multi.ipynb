{
 "cells": [
  {
   "cell_type": "code",
   "execution_count": 11,
   "metadata": {},
   "outputs": [
    {
     "name": "stdout",
     "output_type": "stream",
     "text": [
      "The autoreload extension is already loaded. To reload it, use:\n",
      "  %reload_ext autoreload\n"
     ]
    }
   ],
   "source": [
    "%load_ext autoreload\n",
    "%autoreload 2\n",
    "\n",
    "import sys\n",
    "\n",
    "# https://github.com/fzinfz/flask-DLT645\n",
    "sys.path.append(\"/data_nfs/flask-DLT645/lib\")\n",
    "\n",
    "from read import *\n",
    "\n",
    "from conf import *\n",
    "# from conf_prod import *"
   ]
  },
  {
   "cell_type": "code",
   "execution_count": 12,
   "metadata": {},
   "outputs": [
    {
     "data": {
      "text/html": [
       "<div>\n",
       "<style scoped>\n",
       "    .dataframe tbody tr th:only-of-type {\n",
       "        vertical-align: middle;\n",
       "    }\n",
       "\n",
       "    .dataframe tbody tr th {\n",
       "        vertical-align: top;\n",
       "    }\n",
       "\n",
       "    .dataframe thead th {\n",
       "        text-align: right;\n",
       "    }\n",
       "</style>\n",
       "<table border=\"1\" class=\"dataframe\">\n",
       "  <thead>\n",
       "    <tr style=\"text-align: right;\">\n",
       "      <th></th>\n",
       "      <th>Tag</th>\n",
       "    </tr>\n",
       "    <tr>\n",
       "      <th>Addr</th>\n",
       "      <th></th>\n",
       "    </tr>\n",
       "  </thead>\n",
       "  <tbody>\n",
       "    <tr>\n",
       "      <th>010128318569</th>\n",
       "      <td>up</td>\n",
       "    </tr>\n",
       "    <tr>\n",
       "      <th>000080853040</th>\n",
       "      <td>down</td>\n",
       "    </tr>\n",
       "  </tbody>\n",
       "</table>\n",
       "</div>"
      ],
      "text/plain": [
       "               Tag\n",
       "Addr              \n",
       "010128318569    up\n",
       "000080853040  down"
      ]
     },
     "execution_count": 12,
     "metadata": {},
     "output_type": "execute_result"
    }
   ],
   "source": [
    "devices = Meters(meter_list_str)\n",
    "df_meters = devices.df\n",
    "df_meters"
   ]
  },
  {
   "cell_type": "code",
   "execution_count": 13,
   "metadata": {},
   "outputs": [
    {
     "name": "stdout",
     "output_type": "stream",
     "text": [
      "Serial<id=0x7f4cc8556160, open=True>(port='/dev/ttyUSB0', baudrate=2400, bytesize=8, parity='E', stopbits=1, timeout=0, xonxoff=False, rtscts=False, dsrdtr=False)\n",
      "\n",
      " ===== ['010128318569', 'up'] =====\n",
      "{'功率-瞬时总有功': ('109.20', 'W'), '电能-组合有功总-当前': (6.92, 'kWh')}\n",
      "\n",
      " ===== ['000080853040', 'down'] =====\n",
      "{'功率-瞬时总有功': ('49.60', 'W'), '电能-组合有功总-当前': (3285.88, 'kWh')}\n"
     ]
    }
   ],
   "source": [
    "result = devices.read_meters(chn, level=2, verbose=0)"
   ]
  },
  {
   "cell_type": "code",
   "execution_count": 4,
   "metadata": {},
   "outputs": [
    {
     "data": {
      "text/html": [
       "<div>\n",
       "<style scoped>\n",
       "    .dataframe tbody tr th:only-of-type {\n",
       "        vertical-align: middle;\n",
       "    }\n",
       "\n",
       "    .dataframe tbody tr th {\n",
       "        vertical-align: top;\n",
       "    }\n",
       "\n",
       "    .dataframe thead th {\n",
       "        text-align: right;\n",
       "    }\n",
       "</style>\n",
       "<table border=\"1\" class=\"dataframe\">\n",
       "  <thead>\n",
       "    <tr style=\"text-align: right;\">\n",
       "      <th></th>\n",
       "      <th>Tag</th>\n",
       "      <th>功率-瞬时总有功</th>\n",
       "      <th>电能-组合有功总-当前</th>\n",
       "    </tr>\n",
       "    <tr>\n",
       "      <th>Addr</th>\n",
       "      <th></th>\n",
       "      <th></th>\n",
       "      <th></th>\n",
       "    </tr>\n",
       "  </thead>\n",
       "  <tbody>\n",
       "    <tr>\n",
       "      <th>000081497010</th>\n",
       "      <td>五楼</td>\n",
       "      <td>67.50</td>\n",
       "      <td>5933.55</td>\n",
       "    </tr>\n",
       "    <tr>\n",
       "      <th>000102866265</th>\n",
       "      <td>四五楼</td>\n",
       "      <td>3,541.10</td>\n",
       "      <td>20900.69</td>\n",
       "    </tr>\n",
       "    <tr>\n",
       "      <th>000000004103</th>\n",
       "      <td>201</td>\n",
       "      <td>18.60</td>\n",
       "      <td>2810.25</td>\n",
       "    </tr>\n",
       "    <tr>\n",
       "      <th>000012871763</th>\n",
       "      <td>202</td>\n",
       "      <td>1.70</td>\n",
       "      <td>10208.49</td>\n",
       "    </tr>\n",
       "    <tr>\n",
       "      <th>000001031195</th>\n",
       "      <td>203</td>\n",
       "      <td>0.00</td>\n",
       "      <td>1292.91</td>\n",
       "    </tr>\n",
       "    <tr>\n",
       "      <th>000087578340</th>\n",
       "      <td>205</td>\n",
       "      <td>5.20</td>\n",
       "      <td>107.50</td>\n",
       "    </tr>\n",
       "    <tr>\n",
       "      <th>000012068388</th>\n",
       "      <td>401</td>\n",
       "      <td>0.20</td>\n",
       "      <td>2318.08</td>\n",
       "    </tr>\n",
       "    <tr>\n",
       "      <th>000000023557</th>\n",
       "      <td>402</td>\n",
       "      <td>3,462.00</td>\n",
       "      <td>871.47</td>\n",
       "    </tr>\n",
       "    <tr>\n",
       "      <th>000002005433</th>\n",
       "      <td>405</td>\n",
       "      <td>0.00</td>\n",
       "      <td>1058.11</td>\n",
       "    </tr>\n",
       "  </tbody>\n",
       "</table>\n",
       "</div>"
      ],
      "text/plain": [
       "              Tag  功率-瞬时总有功  电能-组合有功总-当前\n",
       "Addr                                    \n",
       "000081497010   五楼     67.50      5933.55\n",
       "000102866265  四五楼  3,541.10     20900.69\n",
       "000000004103  201     18.60      2810.25\n",
       "000012871763  202      1.70     10208.49\n",
       "000001031195  203      0.00      1292.91\n",
       "000087578340  205      5.20       107.50\n",
       "000012068388  401      0.20      2318.08\n",
       "000000023557  402  3,462.00       871.47\n",
       "000002005433  405      0.00      1058.11"
      ]
     },
     "execution_count": 4,
     "metadata": {},
     "output_type": "execute_result"
    }
   ],
   "source": [
    "import copy\n",
    "result_list = copy.deepcopy(result)\n",
    "\n",
    "for k,v in result_list.items():\n",
    "    v['Addr'] = k, ''\n",
    "\n",
    "for m in result_list.values():\n",
    "    for k in m.keys():\n",
    "        m[k] = m[k][0]\n",
    "\n",
    "df = pd.DataFrame(result_list.values()).set_index('Addr')\n",
    "df = df_meters[['Tag']].merge(df, on='Addr')\n",
    "df"
   ]
  }
 ],
 "metadata": {
  "kernelspec": {
   "display_name": "Python 3",
   "language": "python",
   "name": "python3"
  },
  "language_info": {
   "codemirror_mode": {
    "name": "ipython",
    "version": 3
   },
   "file_extension": ".py",
   "mimetype": "text/x-python",
   "name": "python",
   "nbconvert_exporter": "python",
   "pygments_lexer": "ipython3",
   "version": "3.8.3"
  }
 },
 "nbformat": 4,
 "nbformat_minor": 4
}
